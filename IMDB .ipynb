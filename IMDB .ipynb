{
 "cells": [
  {
   "cell_type": "code",
   "execution_count": 232,
   "metadata": {
    "collapsed": false
   },
   "outputs": [],
   "source": [
    "import pandas as pd\n",
    "import matplotlib.pyplot as plt \n",
    "import numpy as np\n",
    "from sklearn.model_selection import KFold, cross_val_score\n",
    "from sklearn.cross_validation import train_test_split\n",
    "from sklearn.preprocessing import StandardScaler, Normalizer\n",
    "from sklearn.metrics import confusion_matrix, precision_score, recall_score\n",
    "\n",
    "\n",
    "import seaborn as sns\n",
    "\n",
    "%matplotlib inline"
   ]
  },
  {
   "cell_type": "code",
   "execution_count": 117,
   "metadata": {
    "collapsed": true
   },
   "outputs": [],
   "source": [
    "imdb_data = pd.read_csv('movie_metadata.csv')"
   ]
  },
  {
   "cell_type": "code",
   "execution_count": 118,
   "metadata": {
    "collapsed": false
   },
   "outputs": [
    {
     "data": {
      "text/html": [
       "<div>\n",
       "<table border=\"1\" class=\"dataframe\">\n",
       "  <thead>\n",
       "    <tr style=\"text-align: right;\">\n",
       "      <th></th>\n",
       "      <th>color</th>\n",
       "      <th>director_name</th>\n",
       "      <th>num_critic_for_reviews</th>\n",
       "      <th>duration</th>\n",
       "      <th>director_facebook_likes</th>\n",
       "      <th>actor_3_facebook_likes</th>\n",
       "      <th>actor_2_name</th>\n",
       "      <th>actor_1_facebook_likes</th>\n",
       "      <th>gross</th>\n",
       "      <th>genres</th>\n",
       "      <th>...</th>\n",
       "      <th>num_user_for_reviews</th>\n",
       "      <th>language</th>\n",
       "      <th>country</th>\n",
       "      <th>content_rating</th>\n",
       "      <th>budget</th>\n",
       "      <th>title_year</th>\n",
       "      <th>actor_2_facebook_likes</th>\n",
       "      <th>imdb_score</th>\n",
       "      <th>aspect_ratio</th>\n",
       "      <th>movie_facebook_likes</th>\n",
       "    </tr>\n",
       "  </thead>\n",
       "  <tbody>\n",
       "    <tr>\n",
       "      <th>0</th>\n",
       "      <td>Color</td>\n",
       "      <td>James Cameron</td>\n",
       "      <td>723</td>\n",
       "      <td>178</td>\n",
       "      <td>0</td>\n",
       "      <td>855</td>\n",
       "      <td>Joel David Moore</td>\n",
       "      <td>1000</td>\n",
       "      <td>760505847</td>\n",
       "      <td>Action|Adventure|Fantasy|Sci-Fi</td>\n",
       "      <td>...</td>\n",
       "      <td>3054</td>\n",
       "      <td>English</td>\n",
       "      <td>USA</td>\n",
       "      <td>PG-13</td>\n",
       "      <td>237000000</td>\n",
       "      <td>2009</td>\n",
       "      <td>936</td>\n",
       "      <td>7.9</td>\n",
       "      <td>1.78</td>\n",
       "      <td>33000</td>\n",
       "    </tr>\n",
       "    <tr>\n",
       "      <th>1</th>\n",
       "      <td>Color</td>\n",
       "      <td>Gore Verbinski</td>\n",
       "      <td>302</td>\n",
       "      <td>169</td>\n",
       "      <td>563</td>\n",
       "      <td>1000</td>\n",
       "      <td>Orlando Bloom</td>\n",
       "      <td>40000</td>\n",
       "      <td>309404152</td>\n",
       "      <td>Action|Adventure|Fantasy</td>\n",
       "      <td>...</td>\n",
       "      <td>1238</td>\n",
       "      <td>English</td>\n",
       "      <td>USA</td>\n",
       "      <td>PG-13</td>\n",
       "      <td>300000000</td>\n",
       "      <td>2007</td>\n",
       "      <td>5000</td>\n",
       "      <td>7.1</td>\n",
       "      <td>2.35</td>\n",
       "      <td>0</td>\n",
       "    </tr>\n",
       "    <tr>\n",
       "      <th>2</th>\n",
       "      <td>Color</td>\n",
       "      <td>Sam Mendes</td>\n",
       "      <td>602</td>\n",
       "      <td>148</td>\n",
       "      <td>0</td>\n",
       "      <td>161</td>\n",
       "      <td>Rory Kinnear</td>\n",
       "      <td>11000</td>\n",
       "      <td>200074175</td>\n",
       "      <td>Action|Adventure|Thriller</td>\n",
       "      <td>...</td>\n",
       "      <td>994</td>\n",
       "      <td>English</td>\n",
       "      <td>UK</td>\n",
       "      <td>PG-13</td>\n",
       "      <td>245000000</td>\n",
       "      <td>2015</td>\n",
       "      <td>393</td>\n",
       "      <td>6.8</td>\n",
       "      <td>2.35</td>\n",
       "      <td>85000</td>\n",
       "    </tr>\n",
       "    <tr>\n",
       "      <th>3</th>\n",
       "      <td>Color</td>\n",
       "      <td>Christopher Nolan</td>\n",
       "      <td>813</td>\n",
       "      <td>164</td>\n",
       "      <td>22000</td>\n",
       "      <td>23000</td>\n",
       "      <td>Christian Bale</td>\n",
       "      <td>27000</td>\n",
       "      <td>448130642</td>\n",
       "      <td>Action|Thriller</td>\n",
       "      <td>...</td>\n",
       "      <td>2701</td>\n",
       "      <td>English</td>\n",
       "      <td>USA</td>\n",
       "      <td>PG-13</td>\n",
       "      <td>250000000</td>\n",
       "      <td>2012</td>\n",
       "      <td>23000</td>\n",
       "      <td>8.5</td>\n",
       "      <td>2.35</td>\n",
       "      <td>164000</td>\n",
       "    </tr>\n",
       "    <tr>\n",
       "      <th>4</th>\n",
       "      <td>NaN</td>\n",
       "      <td>Doug Walker</td>\n",
       "      <td>NaN</td>\n",
       "      <td>NaN</td>\n",
       "      <td>131</td>\n",
       "      <td>NaN</td>\n",
       "      <td>Rob Walker</td>\n",
       "      <td>131</td>\n",
       "      <td>NaN</td>\n",
       "      <td>Documentary</td>\n",
       "      <td>...</td>\n",
       "      <td>NaN</td>\n",
       "      <td>NaN</td>\n",
       "      <td>NaN</td>\n",
       "      <td>NaN</td>\n",
       "      <td>NaN</td>\n",
       "      <td>NaN</td>\n",
       "      <td>12</td>\n",
       "      <td>7.1</td>\n",
       "      <td>NaN</td>\n",
       "      <td>0</td>\n",
       "    </tr>\n",
       "  </tbody>\n",
       "</table>\n",
       "<p>5 rows × 28 columns</p>\n",
       "</div>"
      ],
      "text/plain": [
       "   color      director_name  num_critic_for_reviews  duration  \\\n",
       "0  Color      James Cameron                     723       178   \n",
       "1  Color     Gore Verbinski                     302       169   \n",
       "2  Color         Sam Mendes                     602       148   \n",
       "3  Color  Christopher Nolan                     813       164   \n",
       "4    NaN        Doug Walker                     NaN       NaN   \n",
       "\n",
       "   director_facebook_likes  actor_3_facebook_likes      actor_2_name  \\\n",
       "0                        0                     855  Joel David Moore   \n",
       "1                      563                    1000     Orlando Bloom   \n",
       "2                        0                     161      Rory Kinnear   \n",
       "3                    22000                   23000    Christian Bale   \n",
       "4                      131                     NaN        Rob Walker   \n",
       "\n",
       "   actor_1_facebook_likes      gross                           genres  \\\n",
       "0                    1000  760505847  Action|Adventure|Fantasy|Sci-Fi   \n",
       "1                   40000  309404152         Action|Adventure|Fantasy   \n",
       "2                   11000  200074175        Action|Adventure|Thriller   \n",
       "3                   27000  448130642                  Action|Thriller   \n",
       "4                     131        NaN                      Documentary   \n",
       "\n",
       "          ...          num_user_for_reviews language  country  content_rating  \\\n",
       "0         ...                          3054  English      USA           PG-13   \n",
       "1         ...                          1238  English      USA           PG-13   \n",
       "2         ...                           994  English       UK           PG-13   \n",
       "3         ...                          2701  English      USA           PG-13   \n",
       "4         ...                           NaN      NaN      NaN             NaN   \n",
       "\n",
       "      budget  title_year actor_2_facebook_likes imdb_score  aspect_ratio  \\\n",
       "0  237000000        2009                    936        7.9          1.78   \n",
       "1  300000000        2007                   5000        7.1          2.35   \n",
       "2  245000000        2015                    393        6.8          2.35   \n",
       "3  250000000        2012                  23000        8.5          2.35   \n",
       "4        NaN         NaN                     12        7.1           NaN   \n",
       "\n",
       "  movie_facebook_likes  \n",
       "0                33000  \n",
       "1                    0  \n",
       "2                85000  \n",
       "3               164000  \n",
       "4                    0  \n",
       "\n",
       "[5 rows x 28 columns]"
      ]
     },
     "execution_count": 118,
     "metadata": {},
     "output_type": "execute_result"
    }
   ],
   "source": [
    "imdb_data.head(5)"
   ]
  },
  {
   "cell_type": "markdown",
   "metadata": {},
   "source": [
    "# Cleaning the data"
   ]
  },
  {
   "cell_type": "markdown",
   "metadata": {},
   "source": [
    "Removing all non numeric data."
   ]
  },
  {
   "cell_type": "code",
   "execution_count": 119,
   "metadata": {
    "collapsed": true
   },
   "outputs": [],
   "source": [
    "str_list = [] # empty list to contain columns with strings (words)\n",
    "for colname, colvalue in imdb_data.iteritems():\n",
    "    if type(colvalue[1]) == str:\n",
    "         str_list.append(colname)\n",
    "# Get to the numeric columns by inversion            \n",
    "num_list = imdb_data.columns.difference(str_list)"
   ]
  },
  {
   "cell_type": "markdown",
   "metadata": {},
   "source": [
    "I tried filling values for this label with Zeros and the mean of the values and I the mean worked better. It resulted in more precision and recall"
   ]
  },
  {
   "cell_type": "code",
   "execution_count": 120,
   "metadata": {
    "collapsed": true
   },
   "outputs": [],
   "source": [
    "imdb_data['imdb_score']=imdb_data['imdb_score'].fillna(np.mean).astype(int)\n",
    "\n"
   ]
  },
  {
   "cell_type": "code",
   "execution_count": 346,
   "metadata": {
    "collapsed": true
   },
   "outputs": [],
   "source": [
    "movie_num = imdb_data[num_list]\n"
   ]
  },
  {
   "cell_type": "code",
   "execution_count": 348,
   "metadata": {
    "collapsed": false
   },
   "outputs": [
    {
     "data": {
      "text/html": [
       "<div>\n",
       "<table border=\"1\" class=\"dataframe\">\n",
       "  <thead>\n",
       "    <tr style=\"text-align: right;\">\n",
       "      <th></th>\n",
       "      <th>actor_1_facebook_likes</th>\n",
       "      <th>actor_2_facebook_likes</th>\n",
       "      <th>actor_3_facebook_likes</th>\n",
       "      <th>aspect_ratio</th>\n",
       "      <th>budget</th>\n",
       "      <th>cast_total_facebook_likes</th>\n",
       "      <th>director_facebook_likes</th>\n",
       "      <th>duration</th>\n",
       "      <th>facenumber_in_poster</th>\n",
       "      <th>gross</th>\n",
       "      <th>imdb_score</th>\n",
       "      <th>movie_facebook_likes</th>\n",
       "      <th>num_critic_for_reviews</th>\n",
       "      <th>num_user_for_reviews</th>\n",
       "      <th>num_voted_users</th>\n",
       "      <th>title_year</th>\n",
       "    </tr>\n",
       "  </thead>\n",
       "  <tbody>\n",
       "    <tr>\n",
       "      <th>0</th>\n",
       "      <td>1000</td>\n",
       "      <td>936</td>\n",
       "      <td>855</td>\n",
       "      <td>1.78</td>\n",
       "      <td>237000000</td>\n",
       "      <td>4834</td>\n",
       "      <td>0</td>\n",
       "      <td>178</td>\n",
       "      <td>0</td>\n",
       "      <td>760505847</td>\n",
       "      <td>7</td>\n",
       "      <td>33000</td>\n",
       "      <td>723</td>\n",
       "      <td>3054</td>\n",
       "      <td>886204</td>\n",
       "      <td>2009</td>\n",
       "    </tr>\n",
       "    <tr>\n",
       "      <th>1</th>\n",
       "      <td>40000</td>\n",
       "      <td>5000</td>\n",
       "      <td>1000</td>\n",
       "      <td>2.35</td>\n",
       "      <td>300000000</td>\n",
       "      <td>48350</td>\n",
       "      <td>563</td>\n",
       "      <td>169</td>\n",
       "      <td>0</td>\n",
       "      <td>309404152</td>\n",
       "      <td>7</td>\n",
       "      <td>0</td>\n",
       "      <td>302</td>\n",
       "      <td>1238</td>\n",
       "      <td>471220</td>\n",
       "      <td>2007</td>\n",
       "    </tr>\n",
       "    <tr>\n",
       "      <th>2</th>\n",
       "      <td>11000</td>\n",
       "      <td>393</td>\n",
       "      <td>161</td>\n",
       "      <td>2.35</td>\n",
       "      <td>245000000</td>\n",
       "      <td>11700</td>\n",
       "      <td>0</td>\n",
       "      <td>148</td>\n",
       "      <td>1</td>\n",
       "      <td>200074175</td>\n",
       "      <td>6</td>\n",
       "      <td>85000</td>\n",
       "      <td>602</td>\n",
       "      <td>994</td>\n",
       "      <td>275868</td>\n",
       "      <td>2015</td>\n",
       "    </tr>\n",
       "    <tr>\n",
       "      <th>3</th>\n",
       "      <td>27000</td>\n",
       "      <td>23000</td>\n",
       "      <td>23000</td>\n",
       "      <td>2.35</td>\n",
       "      <td>250000000</td>\n",
       "      <td>106759</td>\n",
       "      <td>22000</td>\n",
       "      <td>164</td>\n",
       "      <td>0</td>\n",
       "      <td>448130642</td>\n",
       "      <td>8</td>\n",
       "      <td>164000</td>\n",
       "      <td>813</td>\n",
       "      <td>2701</td>\n",
       "      <td>1144337</td>\n",
       "      <td>2012</td>\n",
       "    </tr>\n",
       "    <tr>\n",
       "      <th>4</th>\n",
       "      <td>131</td>\n",
       "      <td>12</td>\n",
       "      <td>NaN</td>\n",
       "      <td>NaN</td>\n",
       "      <td>NaN</td>\n",
       "      <td>143</td>\n",
       "      <td>131</td>\n",
       "      <td>NaN</td>\n",
       "      <td>0</td>\n",
       "      <td>NaN</td>\n",
       "      <td>7</td>\n",
       "      <td>0</td>\n",
       "      <td>NaN</td>\n",
       "      <td>NaN</td>\n",
       "      <td>8</td>\n",
       "      <td>NaN</td>\n",
       "    </tr>\n",
       "  </tbody>\n",
       "</table>\n",
       "</div>"
      ],
      "text/plain": [
       "   actor_1_facebook_likes  actor_2_facebook_likes  actor_3_facebook_likes  \\\n",
       "0                    1000                     936                     855   \n",
       "1                   40000                    5000                    1000   \n",
       "2                   11000                     393                     161   \n",
       "3                   27000                   23000                   23000   \n",
       "4                     131                      12                     NaN   \n",
       "\n",
       "   aspect_ratio     budget  cast_total_facebook_likes  \\\n",
       "0          1.78  237000000                       4834   \n",
       "1          2.35  300000000                      48350   \n",
       "2          2.35  245000000                      11700   \n",
       "3          2.35  250000000                     106759   \n",
       "4           NaN        NaN                        143   \n",
       "\n",
       "   director_facebook_likes  duration  facenumber_in_poster      gross  \\\n",
       "0                        0       178                     0  760505847   \n",
       "1                      563       169                     0  309404152   \n",
       "2                        0       148                     1  200074175   \n",
       "3                    22000       164                     0  448130642   \n",
       "4                      131       NaN                     0        NaN   \n",
       "\n",
       "   imdb_score  movie_facebook_likes  num_critic_for_reviews  \\\n",
       "0           7                 33000                     723   \n",
       "1           7                     0                     302   \n",
       "2           6                 85000                     602   \n",
       "3           8                164000                     813   \n",
       "4           7                     0                     NaN   \n",
       "\n",
       "   num_user_for_reviews  num_voted_users  title_year  \n",
       "0                  3054           886204        2009  \n",
       "1                  1238           471220        2007  \n",
       "2                   994           275868        2015  \n",
       "3                  2701          1144337        2012  \n",
       "4                   NaN                8         NaN  "
      ]
     },
     "execution_count": 348,
     "metadata": {},
     "output_type": "execute_result"
    }
   ],
   "source": [
    "movie_num.head(5)"
   ]
  },
  {
   "cell_type": "code",
   "execution_count": 122,
   "metadata": {
    "collapsed": false
   },
   "outputs": [],
   "source": [
    "movie_num = movie_num.fillna(value = 0, axis = 1)"
   ]
  },
  {
   "cell_type": "markdown",
   "metadata": {},
   "source": [
    "Specifying my features. I picked all numeric data 15 features and my label will be the imdb_score. "
   ]
  },
  {
   "cell_type": "code",
   "execution_count": 123,
   "metadata": {
    "collapsed": false
   },
   "outputs": [],
   "source": [
    "movie_feat = movie_num.drop('imdb_score', axis = 1 )"
   ]
  },
  {
   "cell_type": "markdown",
   "metadata": {},
   "source": [
    "Normalizing the data taking the variance of the data into consideration and neglecting the mean. the standard scaler works better than normalizing the data to a unit norm "
   ]
  },
  {
   "cell_type": "code",
   "execution_count": 124,
   "metadata": {
    "collapsed": false
   },
   "outputs": [],
   "source": [
    "scaler = StandardScaler()\n",
    "mov_scaled = scaler.fit_transform(movie_feat)"
   ]
  },
  {
   "cell_type": "code",
   "execution_count": 289,
   "metadata": {
    "collapsed": false
   },
   "outputs": [
    {
     "data": {
      "text/plain": [
       "6    1811\n",
       "7    1450\n",
       "5     972\n",
       "4     326\n",
       "8     319\n",
       "3     115\n",
       "2      36\n",
       "9       9\n",
       "1       5\n",
       "Name: imdb_score, dtype: int64"
      ]
     },
     "execution_count": 289,
     "metadata": {},
     "output_type": "execute_result"
    }
   ],
   "source": [
    "movie_num['imdb_score'].value_counts()"
   ]
  },
  {
   "cell_type": "code",
   "execution_count": 125,
   "metadata": {
    "collapsed": false
   },
   "outputs": [],
   "source": [
    "z = movie_num['imdb_score'].values"
   ]
  },
  {
   "cell_type": "code",
   "execution_count": 177,
   "metadata": {
    "collapsed": false
   },
   "outputs": [
    {
     "data": {
      "text/plain": [
       "array([7, 7, 6, ..., 6, 6, 6])"
      ]
     },
     "execution_count": 177,
     "metadata": {},
     "output_type": "execute_result"
    }
   ],
   "source": [
    "z"
   ]
  },
  {
   "cell_type": "markdown",
   "metadata": {},
   "source": [
    "I'm using the train test split method. Using 70% of the data for training and 30% for testing. It's random, effecient and serves as a check for overfitting.\n",
    "\n",
    "Split the dataset into two pieces, so that the model can be trained and tested on different data.\n",
    "\n",
    "Better estimate of out-of-sample performance, but still a \"high variance\" estimate"
   ]
  },
  {
   "cell_type": "code",
   "execution_count": 127,
   "metadata": {
    "collapsed": false
   },
   "outputs": [],
   "source": [
    "X_train, X_test, y_train, y_test = train_test_split(mov_scaled, z, test_size=0.3, random_state=0)\n"
   ]
  },
  {
   "cell_type": "markdown",
   "metadata": {},
   "source": [
    "# The classifier"
   ]
  },
  {
   "cell_type": "markdown",
   "metadata": {},
   "source": [
    "The data is not linearly seperable, so Linear discriminant was pretty bad. I tried first naive bayes, but since the data is not normally distributed I was getting bad results, KNN also was bad, because it was neglecting the distribution of the classes. Then Decision trees didn't provide that much improvement, so  I used ensembling and boosting techniques to improve my results. Random forest and Gradient boosting  raised the accuracy to over 50%. The no.of estimators parameter improved the accuracy a lot. "
   ]
  },
  {
   "cell_type": "markdown",
   "metadata": {},
   "source": [
    "Ensemble model combines multiple individual models together to enhance prediction. \n",
    "There is low correlation between the features, so ensemble in general  should work fine with that(Random Forest). The forest basically chooses the classification having the most votes (over all the trees in the forest). "
   ]
  },
  {
   "cell_type": "code",
   "execution_count": 274,
   "metadata": {
    "collapsed": false
   },
   "outputs": [
    {
     "data": {
      "text/plain": [
       "('RandomForest', 0.52875082617316593)"
      ]
     },
     "execution_count": 274,
     "metadata": {},
     "output_type": "execute_result"
    }
   ],
   "source": [
    "from sklearn.ensemble import RandomForestClassifier\n",
    "from sklearn.metrics import accuracy_score\n",
    "clf=RandomForestClassifier(n_estimators=50, max_depth=100)\n",
    "clf.fit(X_train,y_train)\n",
    "y_pred = clf.predict(X_test)\n",
    "\"RandomForest\",accuracy_score(y_test,y_pred)"
   ]
  },
  {
   "cell_type": "markdown",
   "metadata": {},
   "source": [
    "# Measuring performance "
   ]
  },
  {
   "cell_type": "markdown",
   "metadata": {},
   "source": [
    "I got an accuracy of almost 53% coorectly classified. "
   ]
  },
  {
   "cell_type": "markdown",
   "metadata": {},
   "source": [
    "the confusion matrix tells me all about accuracy, precision and recall "
   ]
  },
  {
   "cell_type": "code",
   "execution_count": 164,
   "metadata": {
    "collapsed": false
   },
   "outputs": [
    {
     "name": "stdout",
     "output_type": "stream",
     "text": [
      "0.519978904446\n",
      "0.531394580304\n"
     ]
    },
    {
     "name": "stderr",
     "output_type": "stream",
     "text": [
      "/Library/Frameworks/Python.framework/Versions/3.5/lib/python3.5/site-packages/sklearn/metrics/classification.py:1113: UndefinedMetricWarning: Precision is ill-defined and being set to 0.0 in labels with no predicted samples.\n",
      "  'precision', 'predicted', average, warn_for)\n"
     ]
    }
   ],
   "source": [
    "conf = confusion_matrix(y_test, y_pred)\n",
    "prec = precision_score(y_test, y_pred, average='weighted')\n",
    "print(prec)\n",
    "recall = recall_score(y_test, y_pred, average='weighted')\n",
    "print(recall)"
   ]
  },
  {
   "cell_type": "code",
   "execution_count": 316,
   "metadata": {
    "collapsed": false
   },
   "outputs": [
    {
     "data": {
      "text/plain": [
       "array([[  0,   0,   0,   6,   6,   1,   0,   0],\n",
       "       [  0,   2,   5,  13,  14,   3,   0,   0],\n",
       "       [  0,   1,   5,  47,  36,   3,   0,   0],\n",
       "       [  0,   1,   7, 107, 158,  22,   0,   0],\n",
       "       [  0,   1,   6,  33, 381, 111,   1,   0],\n",
       "       [  0,   0,   4,   7, 155, 261,   9,   0],\n",
       "       [  0,   0,   2,   0,   5,  50,  47,   0],\n",
       "       [  0,   0,   0,   1,   0,   0,   1,   1]])"
      ]
     },
     "execution_count": 316,
     "metadata": {},
     "output_type": "execute_result"
    }
   ],
   "source": [
    "conf"
   ]
  },
  {
   "cell_type": "code",
   "execution_count": 334,
   "metadata": {
    "collapsed": false
   },
   "outputs": [
    {
     "name": "stdout",
     "output_type": "stream",
     "text": [
      "0.504635761589\n",
      "0.714821763602\n"
     ]
    }
   ],
   "source": [
    "precision5 = conf[4,4]/sum(conf[:,4])\n",
    "print(precision5)\n",
    "recall5 = conf[4,4]/sum(conf[4])\n",
    "print(recall5)"
   ]
  },
  {
   "cell_type": "code",
   "execution_count": 335,
   "metadata": {
    "collapsed": false
   },
   "outputs": [
    {
     "name": "stdout",
     "output_type": "stream",
     "text": [
      "0.578713968958\n",
      "0.598623853211\n"
     ]
    }
   ],
   "source": [
    "precision6 = conf[5,5]/sum(conf[:,5])\n",
    "print(precision7)\n",
    "recall6 = conf[5,5]/sum(conf[5])\n",
    "print(recall6)"
   ]
  },
  {
   "cell_type": "code",
   "execution_count": 336,
   "metadata": {
    "collapsed": false
   },
   "outputs": [
    {
     "name": "stdout",
     "output_type": "stream",
     "text": [
      "0.810344827586\n",
      "0.451923076923\n"
     ]
    }
   ],
   "source": [
    "precision7 = conf[6,6]/sum(conf[:,6])\n",
    "print(precision7)\n",
    "recall7 = conf[6,6]/sum(conf[6])\n",
    "print(recall7)"
   ]
  },
  {
   "cell_type": "markdown",
   "metadata": {},
   "source": [
    "Because there isn't enough examples for some classes the model isn't able to generalize very well. but it 's getting a precision of around 52% \n",
    "\n",
    "which means when a true positive label is predicted the model is 52% likely to predict it correctly. \n",
    "\n",
    "\n",
    "it measures how precise our model is when predicting a specific label !\n",
    "\n",
    "\n"
   ]
  },
  {
   "cell_type": "markdown",
   "metadata": {},
   "source": [
    "Recall means when the actual label is predicted. how often is the prediction correct !\n",
    "\n",
    "It's the rate of the true positive values "
   ]
  },
  {
   "cell_type": "markdown",
   "metadata": {},
   "source": [
    "Again the inconsistency of the data plays the biggest part we don't have enough data for some labels so the model is not able to generalize pretty well"
   ]
  },
  {
   "cell_type": "code",
   "execution_count": 345,
   "metadata": {
    "collapsed": false
   },
   "outputs": [
    {
     "data": {
      "text/plain": [
       "<matplotlib.axes._subplots.AxesSubplot at 0x10f061a20>"
      ]
     },
     "execution_count": 345,
     "metadata": {},
     "output_type": "execute_result"
    },
    {
     "data": {
      "image/png": "[encoded data removed]",
      "text/plain": [
       "<matplotlib.figure.Figure at 0x10f0616a0>"
      ]
     },
     "metadata": {},
     "output_type": "display_data"
    }
   ],
   "source": [
    "plt.figure(figsize = (12,10))\n",
    "plt.title('Confusion Matrix ')\n",
    "sns.heatmap(conf, annot=True)"
   ]
  },
  {
   "cell_type": "markdown",
   "metadata": {},
   "source": [
    "Boosting \n",
    "boosting is an iterative technique it adjusts the weight of an observation based on the last classification. I was trying to make sure the model is not Biased and that it's not overfitting. I used a learning rate of 0.1 to avoid being stuck in local minimum."
   ]
  },
  {
   "cell_type": "code",
   "execution_count": 279,
   "metadata": {
    "collapsed": false
   },
   "outputs": [
    {
     "name": "stdout",
     "output_type": "stream",
     "text": [
      "Gradient Boosting 0.513549239921\n",
      "0.505813051887\n",
      "0.513549239921\n"
     ]
    }
   ],
   "source": [
    "from sklearn.ensemble import GradientBoostingClassifier\n",
    "from sklearn.metrics import accuracy_score\n",
    "clf=GradientBoostingClassifier(n_estimators=100, learning_rate=0.1, max_depth=5)\n",
    "clf.fit(X_train,y_train)\n",
    "y_pred1 = clf.predict(X_test)\n",
    "print(\"Gradient Boosting\",accuracy_score(y_test,y_pred1))\n",
    "prec1 = precision_score(y_test, y_pred1, average='weighted')\n",
    "print(prec1)\n",
    "recall1 = recall_score(y_test, y_pred1, average='weighted')\n",
    "print(recall1)"
   ]
  },
  {
   "cell_type": "markdown",
   "metadata": {},
   "source": [
    "# Trying to predict the score using the likes on facebook "
   ]
  },
  {
   "cell_type": "code",
   "execution_count": 29,
   "metadata": {
    "collapsed": false
   },
   "outputs": [],
   "source": [
    "my=list(zip(imdb_data['director_facebook_likes'],imdb_data['actor_1_facebook_likes'],imdb_data['actor_2_facebook_likes'],imdb_data['actor_3_facebook_likes']))\n",
    "X = np.array(my)\n",
    "\n",
    "y = z\n",
    "X\n",
    "y\n",
    "X_train, X_test, y_train, y_test = train_test_split(X, y, test_size=0.2, random_state=0)"
   ]
  },
  {
   "cell_type": "code",
   "execution_count": 31,
   "metadata": {
    "collapsed": false
   },
   "outputs": [
    {
     "name": "stdout",
     "output_type": "stream",
     "text": [
      "<class 'pandas.core.frame.DataFrame'>\n",
      "Int64Index: 5043 entries, 0 to 5042\n",
      "Data columns (total 28 columns):\n",
      "color                        5024 non-null object\n",
      "director_name                4939 non-null object\n",
      "num_critic_for_reviews       5043 non-null float32\n",
      "duration                     5028 non-null float64\n",
      "director_facebook_likes      5043 non-null float32\n",
      "actor_3_facebook_likes       5043 non-null float32\n",
      "actor_2_name                 5030 non-null object\n",
      "actor_1_facebook_likes       5043 non-null float32\n",
      "gross                        5043 non-null float32\n",
      "genres                       5043 non-null object\n",
      "actor_1_name                 5036 non-null object\n",
      "movie_title                  5043 non-null object\n",
      "num_voted_users              5043 non-null float32\n",
      "cast_total_facebook_likes    5043 non-null float32\n",
      "actor_3_name                 5020 non-null object\n",
      "facenumber_in_poster         5043 non-null float32\n",
      "plot_keywords                4890 non-null object\n",
      "movie_imdb_link              5043 non-null object\n",
      "num_user_for_reviews         5043 non-null float32\n",
      "language                     5031 non-null object\n",
      "country                      5038 non-null object\n",
      "content_rating               4740 non-null object\n",
      "budget                       5043 non-null float32\n",
      "title_year                   4935 non-null float64\n",
      "actor_2_facebook_likes       5043 non-null float32\n",
      "imdb_score                   5043 non-null int64\n",
      "aspect_ratio                 4714 non-null float64\n",
      "movie_facebook_likes         5043 non-null float32\n",
      "dtypes: float32(12), float64(3), int64(1), object(12)\n",
      "memory usage: 906.2+ KB\n"
     ]
    }
   ],
   "source": [
    "imdb_data['num_critic_for_reviews']=imdb_data['num_critic_for_reviews'].fillna(0.0).astype(np.float32)\n",
    "imdb_data['director_facebook_likes']=imdb_data['director_facebook_likes'].fillna(0.0).astype(np.float32)\n",
    "imdb_data['actor_3_facebook_likes'] = imdb_data['actor_3_facebook_likes'].fillna(0.0).astype(np.float32)\n",
    "imdb_data['actor_1_facebook_likes'] = imdb_data['actor_1_facebook_likes'].fillna(0.0).astype(np.float32)\n",
    "imdb_data['gross'] = imdb_data['gross'].fillna(0.0).astype(np.float32)\n",
    "imdb_data['num_voted_users'] = imdb_data['num_voted_users'].fillna(0.0).astype(np.float32)\n",
    "imdb_data['cast_total_facebook_likes'] = imdb_data['cast_total_facebook_likes'].fillna(0.0).astype(np.float32)\n",
    "imdb_data['num_user_for_reviews'] = imdb_data['num_user_for_reviews'].fillna(0.0).astype(np.float32)\n",
    "imdb_data['facenumber_in_poster'] = imdb_data['facenumber_in_poster'].fillna(0.0).astype(np.float32)\n",
    "imdb_data['actor_2_facebook_likes'] = imdb_data['actor_2_facebook_likes'].fillna(0.0).astype(np.float32)\n",
    "imdb_data['budget'] = imdb_data['budget'].fillna(0.0).astype(np.float32)\n",
    "imdb_data['movie_facebook_likes'] = imdb_data['movie_facebook_likes'].fillna(0.0).astype(np.float32)\n",
    "\n",
    "\n",
    "imdb_data.info()"
   ]
  },
  {
   "cell_type": "code",
   "execution_count": 342,
   "metadata": {
    "collapsed": false
   },
   "outputs": [
    {
     "data": {
      "text/plain": [
       "('RandomForest', 0.52148050231328491)"
      ]
     },
     "execution_count": 342,
     "metadata": {},
     "output_type": "execute_result"
    }
   ],
   "source": [
    "from sklearn.ensemble import RandomForestClassifier\n",
    "from sklearn.metrics import accuracy_score\n",
    "clf=RandomForestClassifier(n_estimators=100)\n",
    "clf.fit(X_train,y_train)\n",
    "y_pred2 = clf.predict(X_test)\n",
    "\"RandomForest\",accuracy_score(y_test,y_pred2)"
   ]
  },
  {
   "cell_type": "code",
   "execution_count": 343,
   "metadata": {
    "collapsed": false
   },
   "outputs": [
    {
     "name": "stdout",
     "output_type": "stream",
     "text": [
      "0.512346697335\n",
      "0.521480502313\n"
     ]
    }
   ],
   "source": [
    "conf = confusion_matrix(y_test, y_pred2)\n",
    "prec = precision_score(y_test, y_pred2, average='weighted')\n",
    "print(prec)\n",
    "recall = recall_score(y_test, y_pred2, average='weighted')\n",
    "print(recall)"
   ]
  },
  {
   "cell_type": "markdown",
   "metadata": {},
   "source": [
    "Using social media numbers only. it produced numbers close to previous numbers "
   ]
  },
  {
   "cell_type": "code",
   "execution_count": null,
   "metadata": {
    "collapsed": true
   },
   "outputs": [],
   "source": []
  }
 ],
 "metadata": {
  "kernelspec": {
   "display_name": "Python 3",
   "language": "python",
   "name": "python3"
  },
  "language_info": {
   "codemirror_mode": {
    "name": "ipython",
    "version": 3
   },
   "file_extension": ".py",
   "mimetype": "text/x-python",
   "name": "python",
   "nbconvert_exporter": "python",
   "pygments_lexer": "ipython3",
   "version": "3.5.1"
  }
 },
 "nbformat": 4,
 "nbformat_minor": 2
}
